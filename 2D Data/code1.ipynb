{
 "cells": [
  {
   "cell_type": "code",
   "execution_count": 1,
   "id": "0300a9a3",
   "metadata": {},
   "outputs": [],
   "source": [
    "import pandas as pd\n",
    "import numpy as np\n",
    "import matplotlib.pyplot as plt\n",
    "import os"
   ]
  },
  {
   "cell_type": "code",
   "execution_count": 2,
   "id": "49f45abd",
   "metadata": {},
   "outputs": [],
   "source": [
    "data_dir = r\"S:\\Nit Durgapur\\College 4th Sem\\JU Internship\\Fins Heat Prediction\\2D Data\"\n",
    "bt_folders = ['B.T. 340']"
   ]
  },
  {
   "cell_type": "code",
   "execution_count": 3,
   "id": "db43e1fc",
   "metadata": {},
   "outputs": [
    {
     "name": "stdout",
     "output_type": "stream",
     "text": [
      "Plot saved as S:\\Nit Durgapur\\College 4th Sem\\JU Internship\\Fins Heat Prediction\\2D Data\\B.T. 340\\temp_plot_temp_x.png\n",
      "Plot saved as S:\\Nit Durgapur\\College 4th Sem\\JU Internship\\Fins Heat Prediction\\2D Data\\B.T. 340\\temp_plot_temp_y.png\n"
     ]
    }
   ],
   "source": [
    "import os\n",
    "import pandas as pd\n",
    "import matplotlib.pyplot as plt\n",
    "\n",
    "data_dir = r\"S:\\Nit Durgapur\\College 4th Sem\\JU Internship\\Fins Heat Prediction\\2D Data\"\n",
    "bt_folders = ['B.T. 340']\n",
    "\n",
    "# Loop over folders\n",
    "for folder in bt_folders:\n",
    "    folder_path = os.path.join(data_dir, folder)\n",
    "    \n",
    "    # Search for temp_x.csv and temp_y.csv files inside the folder\n",
    "    for filename in os.listdir(folder_path):\n",
    "        if filename.lower() in ['temp_x.csv', 'temp_y.csv']:\n",
    "            file_path = os.path.join(folder_path, filename)\n",
    "            \n",
    "            # Read the CSV file\n",
    "            df = pd.read_csv(file_path, header=None)  # Assuming no header in the file\n",
    "            df.columns = ['Position', 'Temperature']  # Rename columns\n",
    "            \n",
    "            # Create scatter plot\n",
    "            plt.figure(figsize=(10, 6))\n",
    "            plt.scatter(df['Position'], df['Temperature'], alpha=0.6)\n",
    "            plt.title(f'Temperature Distribution - {filename[:-4]} (BT {folder.split(\".\")[-1]})')\n",
    "            plt.xlabel('Position')\n",
    "            plt.ylabel('Temperature (°C)')\n",
    "            plt.grid(True)\n",
    "            \n",
    "            # Save the plot\n",
    "            plot_filename = os.path.join(folder_path, f'temp_plot_{filename[:-4]}.png')\n",
    "            plt.savefig(plot_filename)\n",
    "            plt.close()\n",
    "            \n",
    "            print(f\"Plot saved as {plot_filename}\")"
   ]
  },
  {
   "cell_type": "code",
   "execution_count": 4,
   "id": "96c87b85",
   "metadata": {},
   "outputs": [
    {
     "name": "stdout",
     "output_type": "stream",
     "text": [
      "Warning: temp_x.csv and temp_y.csv have different lengths in B.T. 340\n"
     ]
    }
   ],
   "source": [
    "import os\n",
    "import pandas as pd\n",
    "import matplotlib.pyplot as plt\n",
    "import numpy as np\n",
    "\n",
    "data_dir = r\"S:\\Nit Durgapur\\College 4th Sem\\JU Internship\\Fins Heat Prediction\\2D Data\"\n",
    "bt_folders = ['B.T. 340']\n",
    "\n",
    "for folder in bt_folders:\n",
    "    folder_path = os.path.join(data_dir, folder)\n",
    "    \n",
    "    # Initialize variables to store data\n",
    "    temp_x_data = None\n",
    "    temp_y_data = None\n",
    "    \n",
    "    # Read both CSV files\n",
    "    for filename in os.listdir(folder_path):\n",
    "        if filename.lower() == 'temp_x.csv':\n",
    "            temp_x_data = pd.read_csv(os.path.join(folder_path, filename), header=None)\n",
    "            temp_x_data.columns = ['x_position', 'x_temperature']\n",
    "        elif filename.lower() == 'temp_y.csv':\n",
    "            temp_y_data = pd.read_csv(os.path.join(folder_path, filename), header=None)\n",
    "            temp_y_data.columns = ['y_position', 'y_temperature']\n",
    "    \n",
    "    # Check if both files were found and have the same length\n",
    "    if temp_x_data is not None and temp_y_data is not None:\n",
    "        if len(temp_x_data) == len(temp_y_data):\n",
    "            # Combine the data\n",
    "            combined_data = pd.DataFrame({\n",
    "                'x': temp_x_data['x_position'],\n",
    "                'y': temp_y_data['y_position'],\n",
    "                'temperature': (temp_x_data['x_temperature'] + temp_y_data['y_temperature']) / 2  # Average temperature\n",
    "            })\n",
    "            \n",
    "            # Create 2D scatter plot\n",
    "            plt.figure(figsize=(10, 8))\n",
    "            scatter = plt.scatter(\n",
    "                combined_data['x'], \n",
    "                combined_data['y'], \n",
    "                c=combined_data['temperature'], \n",
    "                cmap='viridis', \n",
    "                alpha=0.7,\n",
    "                s=100  # Marker size\n",
    "            )\n",
    "            \n",
    "            plt.title(f'2D Temperature Distribution (BT {folder.split(\".\")[-1]})')\n",
    "            plt.xlabel('X Position')\n",
    "            plt.ylabel('Y Position')\n",
    "            plt.colorbar(scatter, label='Temperature (°C)')\n",
    "            plt.grid(True)\n",
    "            \n",
    "            # Save the plot\n",
    "            plot_filename = os.path.join(folder_path, '2D_temperature_distribution.png')\n",
    "            plt.savefig(plot_filename, dpi=300, bbox_inches='tight')\n",
    "            plt.close()\n",
    "            \n",
    "            print(f\"2D plot saved as {plot_filename}\")\n",
    "            \n",
    "            # Optional: Save the combined data to a new CSV\n",
    "            combined_data.to_csv(os.path.join(folder_path, 'combined_2D_temp_data.csv'), index=False)\n",
    "        else:\n",
    "            print(f\"Warning: temp_x.csv and temp_y.csv have different lengths in {folder}\")\n",
    "    else:\n",
    "        print(f\"Warning: Could not find both temp_x.csv and temp_y.csv in {folder}\")"
   ]
  },
  {
   "cell_type": "code",
   "execution_count": null,
   "id": "7937fb4d",
   "metadata": {},
   "outputs": [],
   "source": []
  }
 ],
 "metadata": {
  "kernelspec": {
   "display_name": "juinternshipenv",
   "language": "python",
   "name": "python3"
  },
  "language_info": {
   "codemirror_mode": {
    "name": "ipython",
    "version": 3
   },
   "file_extension": ".py",
   "mimetype": "text/x-python",
   "name": "python",
   "nbconvert_exporter": "python",
   "pygments_lexer": "ipython3",
   "version": "3.10.0"
  }
 },
 "nbformat": 4,
 "nbformat_minor": 5
}
